{
 "cells": [
  {
   "cell_type": "markdown",
   "metadata": {},
   "source": [
    "## Kit Data Science\n",
    "\n",
    "## Homework Lesson 5 - Pandas Data Cleaning"
   ]
  },
  {
   "cell_type": "markdown",
   "metadata": {},
   "source": [
    "## 1. Data"
   ]
  },
  {
   "cell_type": "code",
   "execution_count": 35,
   "metadata": {},
   "outputs": [],
   "source": [
    "import numpy as np\n",
    "import pandas as pd\n",
    "import requests\n",
    "import time"
   ]
  },
  {
   "cell_type": "code",
   "execution_count": 6,
   "metadata": {},
   "outputs": [],
   "source": [
    "pathfile = \"https://raw.githubusercontent.com/fspot/INFMDI-721/master/lesson5/products.csv\"\n",
    "df = pd.read_csv(pathfile, sep=';')"
   ]
  },
  {
   "cell_type": "code",
   "execution_count": 40,
   "metadata": {},
   "outputs": [
    {
     "name": "stdout",
     "output_type": "stream",
     "text": [
      "(200, 5)\n"
     ]
    },
    {
     "data": {
      "text/html": [
       "<div>\n",
       "<style scoped>\n",
       "    .dataframe tbody tr th:only-of-type {\n",
       "        vertical-align: middle;\n",
       "    }\n",
       "\n",
       "    .dataframe tbody tr th {\n",
       "        vertical-align: top;\n",
       "    }\n",
       "\n",
       "    .dataframe thead th {\n",
       "        text-align: right;\n",
       "    }\n",
       "</style>\n",
       "<table border=\"1\" class=\"dataframe\">\n",
       "  <thead>\n",
       "    <tr style=\"text-align: right;\">\n",
       "      <th></th>\n",
       "      <th>username</th>\n",
       "      <th>ip_address</th>\n",
       "      <th>product</th>\n",
       "      <th>price</th>\n",
       "      <th>infos</th>\n",
       "    </tr>\n",
       "  </thead>\n",
       "  <tbody>\n",
       "    <tr>\n",
       "      <th>0</th>\n",
       "      <td>ldrover0</td>\n",
       "      <td>666.666.666.666</td>\n",
       "      <td>Clam - Cherrystone</td>\n",
       "      <td>712.8</td>\n",
       "      <td>May contain sugar</td>\n",
       "    </tr>\n",
       "    <tr>\n",
       "      <th>1</th>\n",
       "      <td>kizakov1</td>\n",
       "      <td>nope</td>\n",
       "      <td>Soup - Campbells Bean Medley</td>\n",
       "      <td>379.26</td>\n",
       "      <td>Contains peanut and fish</td>\n",
       "    </tr>\n",
       "    <tr>\n",
       "      <th>2</th>\n",
       "      <td>abromet2</td>\n",
       "      <td>240.177.79.234</td>\n",
       "      <td>Island Oasis - Lemonade</td>\n",
       "      <td>305.96</td>\n",
       "      <td>Ingredients: mustard and fish</td>\n",
       "    </tr>\n",
       "    <tr>\n",
       "      <th>3</th>\n",
       "      <td>kkarolowski3</td>\n",
       "      <td>26.191.237.49</td>\n",
       "      <td>Water - Mineral, Natural</td>\n",
       "      <td>350.15</td>\n",
       "      <td>Contains gluten</td>\n",
       "    </tr>\n",
       "    <tr>\n",
       "      <th>4</th>\n",
       "      <td>mbuckney4</td>\n",
       "      <td>58.90.204.239</td>\n",
       "      <td>Radish - Pickled</td>\n",
       "      <td>949.79</td>\n",
       "      <td>May contain sugar, egg and fish</td>\n",
       "    </tr>\n",
       "  </tbody>\n",
       "</table>\n",
       "</div>"
      ],
      "text/plain": [
       "       username       ip_address                       product   price  \\\n",
       "0      ldrover0  666.666.666.666            Clam - Cherrystone   712.8   \n",
       "1      kizakov1             nope  Soup - Campbells Bean Medley  379.26   \n",
       "2      abromet2   240.177.79.234       Island Oasis - Lemonade  305.96   \n",
       "3  kkarolowski3    26.191.237.49      Water - Mineral, Natural  350.15   \n",
       "4     mbuckney4    58.90.204.239              Radish - Pickled  949.79   \n",
       "\n",
       "                             infos  \n",
       "0                May contain sugar  \n",
       "1         Contains peanut and fish  \n",
       "2    Ingredients: mustard and fish  \n",
       "3                  Contains gluten  \n",
       "4  May contain sugar, egg and fish  "
      ]
     },
     "execution_count": 40,
     "metadata": {},
     "output_type": "execute_result"
    }
   ],
   "source": [
    "print(df.shape)\n",
    "\n",
    "df.head()"
   ]
  },
  {
   "cell_type": "markdown",
   "metadata": {},
   "source": [
    "## 2. Cleaning Currency Column\n",
    "\n",
    "    On aimerait avoir une colonne de prix unifiés en euros. Problème: la currency n'est\n",
    "    pas indiquée pour tous les produits: il va falloir essayer de \"deviner\" les currency\n",
    "    manquantes, en se basant sur l'adresse IP de l'utilisateur.\n",
    "\n",
    "We will be using the [IP Geolocation API](https://ipgeolocationapi.com/) for getting the currency based off the user's IP Address. This API was chosen because no authentification token was required."
   ]
  },
  {
   "cell_type": "code",
   "execution_count": 24,
   "metadata": {},
   "outputs": [],
   "source": [
    "IP_GEOLOC_API = \"https://api.ipgeolocationapi.com/geolocate/{}\""
   ]
  },
  {
   "cell_type": "code",
   "execution_count": 29,
   "metadata": {},
   "outputs": [
    {
     "data": {
      "text/plain": [
       "0    666.666.666.666\n",
       "1               nope\n",
       "2     240.177.79.234\n",
       "3      26.191.237.49\n",
       "4      58.90.204.239\n",
       "Name: ip_address, dtype: object"
      ]
     },
     "execution_count": 29,
     "metadata": {},
     "output_type": "execute_result"
    }
   ],
   "source": [
    "# EDA\n",
    "df['ip_address'].head()"
   ]
  },
  {
   "cell_type": "code",
   "execution_count": 26,
   "metadata": {},
   "outputs": [
    {
     "data": {
      "text/plain": [
       "'USD'"
      ]
     },
     "execution_count": 26,
     "metadata": {},
     "output_type": "execute_result"
    }
   ],
   "source": [
    "# Test\n",
    "testIP = \"26.191.237.49\"\n",
    "IP_GEOLOC_GET = IP_GEOLOC_API.format(testIP)\n",
    "request = requests.get(IP_GEOLOC_GET)\n",
    "requestJSON = request.json()\n",
    "requestJSON['currency_code']"
   ]
  },
  {
   "cell_type": "code",
   "execution_count": 43,
   "metadata": {},
   "outputs": [
    {
     "name": "stdout",
     "output_type": "stream",
     "text": [
      "USD\n",
      "unknown\n"
     ]
    }
   ],
   "source": [
    "def getCurrencyFromIP(x):\n",
    "    # Request from IP GEOLOCATION API\n",
    "    GEOLOC_TEMP = IP_GEOLOC_API.format(x)\n",
    "    request = requests.get(GEOLOC_TEMP)\n",
    "    \n",
    "    # Get Currency\n",
    "    if request.status_code == 200:\n",
    "        try:\n",
    "            currency = request.json()['currency_code']\n",
    "        except:\n",
    "            currency = \"unknown\"\n",
    "    else:\n",
    "        currency = \"unknown\"\n",
    "    \n",
    "    time.sleep(1)\n",
    "    return currency\n",
    "\n",
    "print(getCurrencyFromIP(testIP))\n",
    "print(getCurrencyFromIP(\"nope\"))"
   ]
  },
  {
   "cell_type": "code",
   "execution_count": 44,
   "metadata": {},
   "outputs": [
    {
     "name": "stdout",
     "output_type": "stream",
     "text": [
      "Wall time: 3min 58s\n"
     ]
    }
   ],
   "source": [
    "%%time\n",
    "df['currency'] = df['ip_address'].apply(lambda x: getCurrencyFromIP(x))"
   ]
  },
  {
   "cell_type": "code",
   "execution_count": 50,
   "metadata": {},
   "outputs": [
    {
     "data": {
      "text/plain": [
       "USD        71\n",
       "unknown    43\n",
       "EUR        18\n",
       "CNY        14\n",
       "JPY        11\n",
       "BRL         6\n",
       "KRW         3\n",
       "INR         3\n",
       "TWD         3\n",
       "RUB         3\n",
       "MXN         3\n",
       "CAD         2\n",
       "DKK         2\n",
       "GBP         2\n",
       "RON         1\n",
       "BGN         1\n",
       "AUD         1\n",
       "TRY         1\n",
       "IDR         1\n",
       "TND         1\n",
       "BYN         1\n",
       "KZT         1\n",
       "VND         1\n",
       "ZAR         1\n",
       "IRR         1\n",
       "NGN         1\n",
       "PEN         1\n",
       "MYR         1\n",
       "CHF         1\n",
       "AOA         1\n",
       "Name: currency, dtype: int64"
      ]
     },
     "execution_count": 50,
     "metadata": {},
     "output_type": "execute_result"
    }
   ],
   "source": [
    "df.currency.value_counts()"
   ]
  },
  {
   "cell_type": "markdown",
   "metadata": {},
   "source": [
    "## 3. Cleaning Infos Column\n",
    "\n",
    "    La colonne \"infos\" liste des ingrédients présents dans le produit. On préfèrerait\n",
    "    avoir une colonne de type bool par ingrédient, indiquant si le produit contient ou\n",
    "    non cet ingrédient.\n"
   ]
  },
  {
   "cell_type": "code",
   "execution_count": 115,
   "metadata": {},
   "outputs": [],
   "source": [
    "import string\n",
    "import nltk\n",
    "# from textblob import TextBlob\n",
    "# nltk.download('averaged_perceptron_tagger')"
   ]
  },
  {
   "cell_type": "code",
   "execution_count": 145,
   "metadata": {},
   "outputs": [
    {
     "data": {
      "text/plain": [
       "0                           May contain sugar\n",
       "1                    Contains peanut and fish\n",
       "2               Ingredients: mustard and fish\n",
       "3                             Contains gluten\n",
       "4             May contain sugar, egg and fish\n",
       "5                 Ingredients: sugar and milk\n",
       "6                           May contain sugar\n",
       "7                              Contains sugar\n",
       "8           Ingredients: sugar, milk and fish\n",
       "9    May contain peanut, sugar, milk and fish\n",
       "Name: infos, dtype: object"
      ]
     },
     "execution_count": 145,
     "metadata": {},
     "output_type": "execute_result"
    }
   ],
   "source": [
    "df['infos'].head(10)"
   ]
  },
  {
   "cell_type": "code",
   "execution_count": 146,
   "metadata": {},
   "outputs": [
    {
     "name": "stdout",
     "output_type": "stream",
     "text": [
      "Contains gluten\n",
      "Contains gluten\n",
      "[('Contains', 'NNS'), ('gluten', 'VBP')]\n",
      "[]\n"
     ]
    }
   ],
   "source": [
    "test = df['infos'].copy()[3]\n",
    "print(test)\n",
    "testStr = test.translate(str.maketrans('', '', string.punctuation))\n",
    "print(testStr)\n",
    "testTags = nltk.pos_tag(testStr.split(' '))\n",
    "print(testTags)\n",
    "testTags = [tag[0] for tag in testTags if tag[1]=='NN']\n",
    "print(testTags)"
   ]
  },
  {
   "cell_type": "code",
   "execution_count": 149,
   "metadata": {},
   "outputs": [
    {
     "data": {
      "text/plain": [
       "[('contains', 'NNS'), ('gluten', 'VBP')]"
      ]
     },
     "execution_count": 149,
     "metadata": {},
     "output_type": "execute_result"
    }
   ],
   "source": [
    "def getTagsFromInfoDesc(desc):\n",
    "    desc = desc.lower().translate(str.maketrans('', '', string.punctuation))\n",
    "    tags = nltk.pos_tag(desc.split(' '))\n",
    "    # tags = [tag for tag in tags if tag[1]=='NN']\n",
    "    return tags\n",
    "\n",
    "getTagsFromInfoDesc(test)"
   ]
  },
  {
   "cell_type": "code",
   "execution_count": 150,
   "metadata": {},
   "outputs": [
    {
     "data": {
      "text/plain": [
       "and            169\n",
       "contain         63\n",
       "contains        60\n",
       "egg             47\n",
       "fish            84\n",
       "gluten          55\n",
       "ingredients     77\n",
       "may             63\n",
       "milk            47\n",
       "mustard         40\n",
       "peanut          45\n",
       "soja            56\n",
       "sugar          150\n",
       "dtype: int64"
      ]
     },
     "execution_count": 150,
     "metadata": {},
     "output_type": "execute_result"
    }
   ],
   "source": [
    "df['tags'] = df['infos'].apply(lambda x: getTagsFromInfoDesc(x))\n",
    "results = df['tags'].copy().tolist()\n",
    "results = [el[0] for sublist in results for el in sublist]\n",
    "pd.Series(results).value_counts().sort_index()"
   ]
  },
  {
   "cell_type": "code",
   "execution_count": 151,
   "metadata": {},
   "outputs": [
    {
     "data": {
      "text/html": [
       "<div>\n",
       "<style scoped>\n",
       "    .dataframe tbody tr th:only-of-type {\n",
       "        vertical-align: middle;\n",
       "    }\n",
       "\n",
       "    .dataframe tbody tr th {\n",
       "        vertical-align: top;\n",
       "    }\n",
       "\n",
       "    .dataframe thead th {\n",
       "        text-align: right;\n",
       "    }\n",
       "</style>\n",
       "<table border=\"1\" class=\"dataframe\">\n",
       "  <thead>\n",
       "    <tr style=\"text-align: right;\">\n",
       "      <th></th>\n",
       "      <th>username</th>\n",
       "      <th>ip_address</th>\n",
       "      <th>product</th>\n",
       "      <th>price</th>\n",
       "      <th>infos</th>\n",
       "      <th>currency</th>\n",
       "      <th>ingredients</th>\n",
       "      <th>tags</th>\n",
       "    </tr>\n",
       "  </thead>\n",
       "  <tbody>\n",
       "    <tr>\n",
       "      <th>0</th>\n",
       "      <td>ldrover0</td>\n",
       "      <td>666.666.666.666</td>\n",
       "      <td>Clam - Cherrystone</td>\n",
       "      <td>712.8</td>\n",
       "      <td>May contain sugar</td>\n",
       "      <td>unknown</td>\n",
       "      <td>[]</td>\n",
       "      <td>[(may, MD), (contain, VB), (sugar, NN)]</td>\n",
       "    </tr>\n",
       "    <tr>\n",
       "      <th>1</th>\n",
       "      <td>kizakov1</td>\n",
       "      <td>nope</td>\n",
       "      <td>Soup - Campbells Bean Medley</td>\n",
       "      <td>379.26</td>\n",
       "      <td>Contains peanut and fish</td>\n",
       "      <td>unknown</td>\n",
       "      <td>[]</td>\n",
       "      <td>[(contains, NNS), (peanut, NN), (and, CC), (fi...</td>\n",
       "    </tr>\n",
       "    <tr>\n",
       "      <th>2</th>\n",
       "      <td>abromet2</td>\n",
       "      <td>240.177.79.234</td>\n",
       "      <td>Island Oasis - Lemonade</td>\n",
       "      <td>305.96</td>\n",
       "      <td>Ingredients: mustard and fish</td>\n",
       "      <td>unknown</td>\n",
       "      <td>[]</td>\n",
       "      <td>[(ingredients, NNS), (mustard, NN), (and, CC),...</td>\n",
       "    </tr>\n",
       "    <tr>\n",
       "      <th>3</th>\n",
       "      <td>kkarolowski3</td>\n",
       "      <td>26.191.237.49</td>\n",
       "      <td>Water - Mineral, Natural</td>\n",
       "      <td>350.15</td>\n",
       "      <td>Contains gluten</td>\n",
       "      <td>USD</td>\n",
       "      <td>[]</td>\n",
       "      <td>[(contains, NNS), (gluten, VBP)]</td>\n",
       "    </tr>\n",
       "    <tr>\n",
       "      <th>4</th>\n",
       "      <td>mbuckney4</td>\n",
       "      <td>58.90.204.239</td>\n",
       "      <td>Radish - Pickled</td>\n",
       "      <td>949.79</td>\n",
       "      <td>May contain sugar, egg and fish</td>\n",
       "      <td>JPY</td>\n",
       "      <td>[]</td>\n",
       "      <td>[(may, MD), (contain, VB), (sugar, NN), (egg, ...</td>\n",
       "    </tr>\n",
       "  </tbody>\n",
       "</table>\n",
       "</div>"
      ],
      "text/plain": [
       "       username       ip_address                       product   price  \\\n",
       "0      ldrover0  666.666.666.666            Clam - Cherrystone   712.8   \n",
       "1      kizakov1             nope  Soup - Campbells Bean Medley  379.26   \n",
       "2      abromet2   240.177.79.234       Island Oasis - Lemonade  305.96   \n",
       "3  kkarolowski3    26.191.237.49      Water - Mineral, Natural  350.15   \n",
       "4     mbuckney4    58.90.204.239              Radish - Pickled  949.79   \n",
       "\n",
       "                             infos currency ingredients  \\\n",
       "0                May contain sugar  unknown          []   \n",
       "1         Contains peanut and fish  unknown          []   \n",
       "2    Ingredients: mustard and fish  unknown          []   \n",
       "3                  Contains gluten      USD          []   \n",
       "4  May contain sugar, egg and fish      JPY          []   \n",
       "\n",
       "                                                tags  \n",
       "0            [(may, MD), (contain, VB), (sugar, NN)]  \n",
       "1  [(contains, NNS), (peanut, NN), (and, CC), (fi...  \n",
       "2  [(ingredients, NNS), (mustard, NN), (and, CC),...  \n",
       "3                   [(contains, NNS), (gluten, VBP)]  \n",
       "4  [(may, MD), (contain, VB), (sugar, NN), (egg, ...  "
      ]
     },
     "execution_count": 151,
     "metadata": {},
     "output_type": "execute_result"
    }
   ],
   "source": [
    "df.head()"
   ]
  },
  {
   "cell_type": "code",
   "execution_count": 152,
   "metadata": {},
   "outputs": [],
   "source": [
    "ingredients = ['egg', 'fish', 'gluten', 'milk', 'mustard', 'peanut', 'soja', 'sugar']\n",
    "\n",
    "df['tags'] = df['tags'].apply(lambda tags: [tag[0] for tag in tags])\n",
    "df['ingredients'] = df['tags'].apply(lambda tags: [tag for tag in tags if tag in ingredients])\n",
    "df.drop('tags', axis=1, inplace=True)"
   ]
  },
  {
   "cell_type": "code",
   "execution_count": 153,
   "metadata": {},
   "outputs": [
    {
     "data": {
      "text/html": [
       "<div>\n",
       "<style scoped>\n",
       "    .dataframe tbody tr th:only-of-type {\n",
       "        vertical-align: middle;\n",
       "    }\n",
       "\n",
       "    .dataframe tbody tr th {\n",
       "        vertical-align: top;\n",
       "    }\n",
       "\n",
       "    .dataframe thead th {\n",
       "        text-align: right;\n",
       "    }\n",
       "</style>\n",
       "<table border=\"1\" class=\"dataframe\">\n",
       "  <thead>\n",
       "    <tr style=\"text-align: right;\">\n",
       "      <th></th>\n",
       "      <th>username</th>\n",
       "      <th>ip_address</th>\n",
       "      <th>product</th>\n",
       "      <th>price</th>\n",
       "      <th>infos</th>\n",
       "      <th>currency</th>\n",
       "      <th>ingredients</th>\n",
       "    </tr>\n",
       "  </thead>\n",
       "  <tbody>\n",
       "    <tr>\n",
       "      <th>0</th>\n",
       "      <td>ldrover0</td>\n",
       "      <td>666.666.666.666</td>\n",
       "      <td>Clam - Cherrystone</td>\n",
       "      <td>712.8</td>\n",
       "      <td>May contain sugar</td>\n",
       "      <td>unknown</td>\n",
       "      <td>[sugar]</td>\n",
       "    </tr>\n",
       "    <tr>\n",
       "      <th>1</th>\n",
       "      <td>kizakov1</td>\n",
       "      <td>nope</td>\n",
       "      <td>Soup - Campbells Bean Medley</td>\n",
       "      <td>379.26</td>\n",
       "      <td>Contains peanut and fish</td>\n",
       "      <td>unknown</td>\n",
       "      <td>[peanut, fish]</td>\n",
       "    </tr>\n",
       "    <tr>\n",
       "      <th>2</th>\n",
       "      <td>abromet2</td>\n",
       "      <td>240.177.79.234</td>\n",
       "      <td>Island Oasis - Lemonade</td>\n",
       "      <td>305.96</td>\n",
       "      <td>Ingredients: mustard and fish</td>\n",
       "      <td>unknown</td>\n",
       "      <td>[mustard, fish]</td>\n",
       "    </tr>\n",
       "    <tr>\n",
       "      <th>3</th>\n",
       "      <td>kkarolowski3</td>\n",
       "      <td>26.191.237.49</td>\n",
       "      <td>Water - Mineral, Natural</td>\n",
       "      <td>350.15</td>\n",
       "      <td>Contains gluten</td>\n",
       "      <td>USD</td>\n",
       "      <td>[gluten]</td>\n",
       "    </tr>\n",
       "    <tr>\n",
       "      <th>4</th>\n",
       "      <td>mbuckney4</td>\n",
       "      <td>58.90.204.239</td>\n",
       "      <td>Radish - Pickled</td>\n",
       "      <td>949.79</td>\n",
       "      <td>May contain sugar, egg and fish</td>\n",
       "      <td>JPY</td>\n",
       "      <td>[sugar, egg, fish]</td>\n",
       "    </tr>\n",
       "  </tbody>\n",
       "</table>\n",
       "</div>"
      ],
      "text/plain": [
       "       username       ip_address                       product   price  \\\n",
       "0      ldrover0  666.666.666.666            Clam - Cherrystone   712.8   \n",
       "1      kizakov1             nope  Soup - Campbells Bean Medley  379.26   \n",
       "2      abromet2   240.177.79.234       Island Oasis - Lemonade  305.96   \n",
       "3  kkarolowski3    26.191.237.49      Water - Mineral, Natural  350.15   \n",
       "4     mbuckney4    58.90.204.239              Radish - Pickled  949.79   \n",
       "\n",
       "                             infos currency         ingredients  \n",
       "0                May contain sugar  unknown             [sugar]  \n",
       "1         Contains peanut and fish  unknown      [peanut, fish]  \n",
       "2    Ingredients: mustard and fish  unknown     [mustard, fish]  \n",
       "3                  Contains gluten      USD            [gluten]  \n",
       "4  May contain sugar, egg and fish      JPY  [sugar, egg, fish]  "
      ]
     },
     "execution_count": 153,
     "metadata": {},
     "output_type": "execute_result"
    }
   ],
   "source": [
    "df.head()"
   ]
  },
  {
   "cell_type": "markdown",
   "metadata": {},
   "source": [
    "Transform column of lists into one-hot encoded columns:"
   ]
  },
  {
   "cell_type": "code",
   "execution_count": 156,
   "metadata": {},
   "outputs": [],
   "source": [
    "from sklearn.preprocessing import MultiLabelBinarizer"
   ]
  },
  {
   "cell_type": "code",
   "execution_count": 160,
   "metadata": {},
   "outputs": [
    {
     "data": {
      "text/html": [
       "<div>\n",
       "<style scoped>\n",
       "    .dataframe tbody tr th:only-of-type {\n",
       "        vertical-align: middle;\n",
       "    }\n",
       "\n",
       "    .dataframe tbody tr th {\n",
       "        vertical-align: top;\n",
       "    }\n",
       "\n",
       "    .dataframe thead th {\n",
       "        text-align: right;\n",
       "    }\n",
       "</style>\n",
       "<table border=\"1\" class=\"dataframe\">\n",
       "  <thead>\n",
       "    <tr style=\"text-align: right;\">\n",
       "      <th></th>\n",
       "      <th>egg</th>\n",
       "      <th>fish</th>\n",
       "      <th>gluten</th>\n",
       "      <th>milk</th>\n",
       "      <th>mustard</th>\n",
       "      <th>peanut</th>\n",
       "      <th>soja</th>\n",
       "      <th>sugar</th>\n",
       "    </tr>\n",
       "  </thead>\n",
       "  <tbody>\n",
       "    <tr>\n",
       "      <th>0</th>\n",
       "      <td>0</td>\n",
       "      <td>0</td>\n",
       "      <td>0</td>\n",
       "      <td>0</td>\n",
       "      <td>0</td>\n",
       "      <td>0</td>\n",
       "      <td>0</td>\n",
       "      <td>1</td>\n",
       "    </tr>\n",
       "    <tr>\n",
       "      <th>1</th>\n",
       "      <td>0</td>\n",
       "      <td>1</td>\n",
       "      <td>0</td>\n",
       "      <td>0</td>\n",
       "      <td>0</td>\n",
       "      <td>1</td>\n",
       "      <td>0</td>\n",
       "      <td>0</td>\n",
       "    </tr>\n",
       "    <tr>\n",
       "      <th>2</th>\n",
       "      <td>0</td>\n",
       "      <td>1</td>\n",
       "      <td>0</td>\n",
       "      <td>0</td>\n",
       "      <td>1</td>\n",
       "      <td>0</td>\n",
       "      <td>0</td>\n",
       "      <td>0</td>\n",
       "    </tr>\n",
       "    <tr>\n",
       "      <th>3</th>\n",
       "      <td>0</td>\n",
       "      <td>0</td>\n",
       "      <td>1</td>\n",
       "      <td>0</td>\n",
       "      <td>0</td>\n",
       "      <td>0</td>\n",
       "      <td>0</td>\n",
       "      <td>0</td>\n",
       "    </tr>\n",
       "    <tr>\n",
       "      <th>4</th>\n",
       "      <td>1</td>\n",
       "      <td>1</td>\n",
       "      <td>0</td>\n",
       "      <td>0</td>\n",
       "      <td>0</td>\n",
       "      <td>0</td>\n",
       "      <td>0</td>\n",
       "      <td>1</td>\n",
       "    </tr>\n",
       "  </tbody>\n",
       "</table>\n",
       "</div>"
      ],
      "text/plain": [
       "   egg  fish  gluten  milk  mustard  peanut  soja  sugar\n",
       "0    0     0       0     0        0       0     0      1\n",
       "1    0     1       0     0        0       1     0      0\n",
       "2    0     1       0     0        1       0     0      0\n",
       "3    0     0       1     0        0       0     0      0\n",
       "4    1     1       0     0        0       0     0      1"
      ]
     },
     "execution_count": 160,
     "metadata": {},
     "output_type": "execute_result"
    }
   ],
   "source": [
    "tagsCol = df['ingredients']\n",
    "mlb = MultiLabelBinarizer()\n",
    "res = pd.DataFrame(mlb.fit_transform(tagsCol), columns=mlb.classes_,\n",
    "                   index=tagsCol.index)\n",
    "res.head()"
   ]
  },
  {
   "cell_type": "code",
   "execution_count": 161,
   "metadata": {},
   "outputs": [
    {
     "data": {
      "text/html": [
       "<div>\n",
       "<style scoped>\n",
       "    .dataframe tbody tr th:only-of-type {\n",
       "        vertical-align: middle;\n",
       "    }\n",
       "\n",
       "    .dataframe tbody tr th {\n",
       "        vertical-align: top;\n",
       "    }\n",
       "\n",
       "    .dataframe thead th {\n",
       "        text-align: right;\n",
       "    }\n",
       "</style>\n",
       "<table border=\"1\" class=\"dataframe\">\n",
       "  <thead>\n",
       "    <tr style=\"text-align: right;\">\n",
       "      <th></th>\n",
       "      <th>username</th>\n",
       "      <th>ip_address</th>\n",
       "      <th>product</th>\n",
       "      <th>price</th>\n",
       "      <th>infos</th>\n",
       "      <th>currency</th>\n",
       "      <th>ingredients</th>\n",
       "      <th>egg</th>\n",
       "      <th>fish</th>\n",
       "      <th>gluten</th>\n",
       "      <th>milk</th>\n",
       "      <th>mustard</th>\n",
       "      <th>peanut</th>\n",
       "      <th>soja</th>\n",
       "      <th>sugar</th>\n",
       "    </tr>\n",
       "  </thead>\n",
       "  <tbody>\n",
       "    <tr>\n",
       "      <th>0</th>\n",
       "      <td>ldrover0</td>\n",
       "      <td>666.666.666.666</td>\n",
       "      <td>Clam - Cherrystone</td>\n",
       "      <td>712.8</td>\n",
       "      <td>May contain sugar</td>\n",
       "      <td>unknown</td>\n",
       "      <td>[sugar]</td>\n",
       "      <td>0</td>\n",
       "      <td>0</td>\n",
       "      <td>0</td>\n",
       "      <td>0</td>\n",
       "      <td>0</td>\n",
       "      <td>0</td>\n",
       "      <td>0</td>\n",
       "      <td>1</td>\n",
       "    </tr>\n",
       "    <tr>\n",
       "      <th>1</th>\n",
       "      <td>kizakov1</td>\n",
       "      <td>nope</td>\n",
       "      <td>Soup - Campbells Bean Medley</td>\n",
       "      <td>379.26</td>\n",
       "      <td>Contains peanut and fish</td>\n",
       "      <td>unknown</td>\n",
       "      <td>[peanut, fish]</td>\n",
       "      <td>0</td>\n",
       "      <td>1</td>\n",
       "      <td>0</td>\n",
       "      <td>0</td>\n",
       "      <td>0</td>\n",
       "      <td>1</td>\n",
       "      <td>0</td>\n",
       "      <td>0</td>\n",
       "    </tr>\n",
       "    <tr>\n",
       "      <th>2</th>\n",
       "      <td>abromet2</td>\n",
       "      <td>240.177.79.234</td>\n",
       "      <td>Island Oasis - Lemonade</td>\n",
       "      <td>305.96</td>\n",
       "      <td>Ingredients: mustard and fish</td>\n",
       "      <td>unknown</td>\n",
       "      <td>[mustard, fish]</td>\n",
       "      <td>0</td>\n",
       "      <td>1</td>\n",
       "      <td>0</td>\n",
       "      <td>0</td>\n",
       "      <td>1</td>\n",
       "      <td>0</td>\n",
       "      <td>0</td>\n",
       "      <td>0</td>\n",
       "    </tr>\n",
       "    <tr>\n",
       "      <th>3</th>\n",
       "      <td>kkarolowski3</td>\n",
       "      <td>26.191.237.49</td>\n",
       "      <td>Water - Mineral, Natural</td>\n",
       "      <td>350.15</td>\n",
       "      <td>Contains gluten</td>\n",
       "      <td>USD</td>\n",
       "      <td>[gluten]</td>\n",
       "      <td>0</td>\n",
       "      <td>0</td>\n",
       "      <td>1</td>\n",
       "      <td>0</td>\n",
       "      <td>0</td>\n",
       "      <td>0</td>\n",
       "      <td>0</td>\n",
       "      <td>0</td>\n",
       "    </tr>\n",
       "    <tr>\n",
       "      <th>4</th>\n",
       "      <td>mbuckney4</td>\n",
       "      <td>58.90.204.239</td>\n",
       "      <td>Radish - Pickled</td>\n",
       "      <td>949.79</td>\n",
       "      <td>May contain sugar, egg and fish</td>\n",
       "      <td>JPY</td>\n",
       "      <td>[sugar, egg, fish]</td>\n",
       "      <td>1</td>\n",
       "      <td>1</td>\n",
       "      <td>0</td>\n",
       "      <td>0</td>\n",
       "      <td>0</td>\n",
       "      <td>0</td>\n",
       "      <td>0</td>\n",
       "      <td>1</td>\n",
       "    </tr>\n",
       "  </tbody>\n",
       "</table>\n",
       "</div>"
      ],
      "text/plain": [
       "       username       ip_address                       product   price  \\\n",
       "0      ldrover0  666.666.666.666            Clam - Cherrystone   712.8   \n",
       "1      kizakov1             nope  Soup - Campbells Bean Medley  379.26   \n",
       "2      abromet2   240.177.79.234       Island Oasis - Lemonade  305.96   \n",
       "3  kkarolowski3    26.191.237.49      Water - Mineral, Natural  350.15   \n",
       "4     mbuckney4    58.90.204.239              Radish - Pickled  949.79   \n",
       "\n",
       "                             infos currency         ingredients  egg  fish  \\\n",
       "0                May contain sugar  unknown             [sugar]    0     0   \n",
       "1         Contains peanut and fish  unknown      [peanut, fish]    0     1   \n",
       "2    Ingredients: mustard and fish  unknown     [mustard, fish]    0     1   \n",
       "3                  Contains gluten      USD            [gluten]    0     0   \n",
       "4  May contain sugar, egg and fish      JPY  [sugar, egg, fish]    1     1   \n",
       "\n",
       "   gluten  milk  mustard  peanut  soja  sugar  \n",
       "0       0     0        0       0     0      1  \n",
       "1       0     0        0       1     0      0  \n",
       "2       0     0        1       0     0      0  \n",
       "3       1     0        0       0     0      0  \n",
       "4       0     0        0       0     0      1  "
      ]
     },
     "execution_count": 161,
     "metadata": {},
     "output_type": "execute_result"
    }
   ],
   "source": [
    "df1 = pd.concat([df, res], axis=1)\n",
    "df1.head()"
   ]
  }
 ],
 "metadata": {
  "kernelspec": {
   "display_name": "Python 3",
   "language": "python",
   "name": "python3"
  },
  "language_info": {
   "codemirror_mode": {
    "name": "ipython",
    "version": 3
   },
   "file_extension": ".py",
   "mimetype": "text/x-python",
   "name": "python",
   "nbconvert_exporter": "python",
   "pygments_lexer": "ipython3",
   "version": "3.6.4"
  }
 },
 "nbformat": 4,
 "nbformat_minor": 2
}
