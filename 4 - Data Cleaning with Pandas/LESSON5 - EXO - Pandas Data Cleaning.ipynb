{
 "cells": [
  {
   "cell_type": "markdown",
   "metadata": {},
   "source": [
    "## Kit Data Science\n",
    "\n",
    "## Exercise Lesson 5 - Pandas Data Cleaning"
   ]
  },
  {
   "cell_type": "markdown",
   "metadata": {},
   "source": [
    "## 1. Data"
   ]
  },
  {
   "cell_type": "code",
   "execution_count": 37,
   "metadata": {},
   "outputs": [],
   "source": [
    "import numpy as np\n",
    "import pandas as pd\n",
    "import re\n",
    "import time\n",
    "import reverse_geocoder as rg\n",
    "import pycountry"
   ]
  },
  {
   "cell_type": "code",
   "execution_count": 4,
   "metadata": {},
   "outputs": [],
   "source": [
    "pathfile = \"https://raw.githubusercontent.com/fspot/INFMDI-721/master/lesson4/people.csv\"\n",
    "df = pd.read_csv(pathfile, sep=',')"
   ]
  },
  {
   "cell_type": "code",
   "execution_count": 5,
   "metadata": {},
   "outputs": [
    {
     "name": "stdout",
     "output_type": "stream",
     "text": [
      "(209, 15)\n"
     ]
    },
    {
     "data": {
      "text/html": [
       "<div>\n",
       "<style scoped>\n",
       "    .dataframe tbody tr th:only-of-type {\n",
       "        vertical-align: middle;\n",
       "    }\n",
       "\n",
       "    .dataframe tbody tr th {\n",
       "        vertical-align: top;\n",
       "    }\n",
       "\n",
       "    .dataframe thead th {\n",
       "        text-align: right;\n",
       "    }\n",
       "</style>\n",
       "<table border=\"1\" class=\"dataframe\">\n",
       "  <thead>\n",
       "    <tr style=\"text-align: right;\">\n",
       "      <th></th>\n",
       "      <th>id</th>\n",
       "      <th>first_name</th>\n",
       "      <th>last_name</th>\n",
       "      <th>email address</th>\n",
       "      <th>gender</th>\n",
       "      <th>age</th>\n",
       "      <th>money</th>\n",
       "      <th>lon</th>\n",
       "      <th>lat</th>\n",
       "      <th>phone</th>\n",
       "      <th>registration</th>\n",
       "      <th>inactive</th>\n",
       "      <th>last_seen</th>\n",
       "      <th>address</th>\n",
       "      <th>preference</th>\n",
       "    </tr>\n",
       "  </thead>\n",
       "  <tbody>\n",
       "    <tr>\n",
       "      <th>0</th>\n",
       "      <td>27625</td>\n",
       "      <td>Leandra</td>\n",
       "      <td>Pabelik</td>\n",
       "      <td>lpabelik5f@yale.edu</td>\n",
       "      <td>Female</td>\n",
       "      <td>63</td>\n",
       "      <td>$55.18</td>\n",
       "      <td>18.284100</td>\n",
       "      <td>49.632552</td>\n",
       "      <td>0136319724</td>\n",
       "      <td>2019/04/16</td>\n",
       "      <td>False</td>\n",
       "      <td>1.559566e+09</td>\n",
       "      <td>Palkovice, Czech Republic</td>\n",
       "      <td>entrée/plat/dessert</td>\n",
       "    </tr>\n",
       "    <tr>\n",
       "      <th>1</th>\n",
       "      <td>27570</td>\n",
       "      <td>Ruthi</td>\n",
       "      <td>Ross</td>\n",
       "      <td>rross3w@sohu.com</td>\n",
       "      <td>Female</td>\n",
       "      <td>57</td>\n",
       "      <td>$20.37</td>\n",
       "      <td>19.230220</td>\n",
       "      <td>50.466575</td>\n",
       "      <td>NaN</td>\n",
       "      <td>2018/10/23</td>\n",
       "      <td>False</td>\n",
       "      <td>1.567165e+09</td>\n",
       "      <td>Siewierz, Poland</td>\n",
       "      <td>entrée/plat/dessert</td>\n",
       "    </tr>\n",
       "    <tr>\n",
       "      <th>2</th>\n",
       "      <td>27572</td>\n",
       "      <td>Silas</td>\n",
       "      <td>Stourton</td>\n",
       "      <td>silas.stourton3y@answers.com</td>\n",
       "      <td>Male</td>\n",
       "      <td>22</td>\n",
       "      <td>€32,99</td>\n",
       "      <td>118.831081</td>\n",
       "      <td>24.984813</td>\n",
       "      <td>NaN</td>\n",
       "      <td>2018/12/30</td>\n",
       "      <td>False</td>\n",
       "      <td>1.553692e+09</td>\n",
       "      <td>Longbo, China</td>\n",
       "      <td>entrée/plat/dessert</td>\n",
       "    </tr>\n",
       "    <tr>\n",
       "      <th>3</th>\n",
       "      <td>27435</td>\n",
       "      <td>Roxine</td>\n",
       "      <td>Pettecrew</td>\n",
       "      <td>rpettecrew5@gravatar.com</td>\n",
       "      <td>F</td>\n",
       "      <td>64</td>\n",
       "      <td>€98,93</td>\n",
       "      <td>121.648987</td>\n",
       "      <td>-8.844744</td>\n",
       "      <td>NaN</td>\n",
       "      <td>2019/03/12</td>\n",
       "      <td>False</td>\n",
       "      <td>1.552349e+09</td>\n",
       "      <td>Potulando, Indonesia</td>\n",
       "      <td>entrée/plat</td>\n",
       "    </tr>\n",
       "    <tr>\n",
       "      <th>4</th>\n",
       "      <td>27558</td>\n",
       "      <td>Margaux</td>\n",
       "      <td>Gowanson</td>\n",
       "      <td>nope@thankyou.</td>\n",
       "      <td>Female</td>\n",
       "      <td>54</td>\n",
       "      <td>$13.30</td>\n",
       "      <td>14.772557</td>\n",
       "      <td>45.160472</td>\n",
       "      <td>NaN</td>\n",
       "      <td>2018/08/13</td>\n",
       "      <td>False</td>\n",
       "      <td>1.543383e+09</td>\n",
       "      <td>Bribir, Croatia</td>\n",
       "      <td>entrée/plat/dessert</td>\n",
       "    </tr>\n",
       "  </tbody>\n",
       "</table>\n",
       "</div>"
      ],
      "text/plain": [
       "      id first_name  last_name                 email address  gender age  \\\n",
       "0  27625    Leandra    Pabelik           lpabelik5f@yale.edu  Female  63   \n",
       "1  27570      Ruthi       Ross              rross3w@sohu.com  Female  57   \n",
       "2  27572      Silas   Stourton  silas.stourton3y@answers.com    Male  22   \n",
       "3  27435     Roxine  Pettecrew      rpettecrew5@gravatar.com       F  64   \n",
       "4  27558    Margaux   Gowanson                nope@thankyou.  Female  54   \n",
       "\n",
       "    money         lon        lat       phone registration inactive  \\\n",
       "0  $55.18   18.284100  49.632552  0136319724   2019/04/16    False   \n",
       "1  $20.37   19.230220  50.466575         NaN   2018/10/23    False   \n",
       "2  €32,99  118.831081  24.984813         NaN   2018/12/30    False   \n",
       "3  €98,93  121.648987  -8.844744         NaN   2019/03/12    False   \n",
       "4  $13.30   14.772557  45.160472         NaN   2018/08/13    False   \n",
       "\n",
       "      last_seen                    address           preference  \n",
       "0  1.559566e+09  Palkovice, Czech Republic  entrée/plat/dessert  \n",
       "1  1.567165e+09           Siewierz, Poland  entrée/plat/dessert  \n",
       "2  1.553692e+09              Longbo, China  entrée/plat/dessert  \n",
       "3  1.552349e+09       Potulando, Indonesia          entrée/plat  \n",
       "4  1.543383e+09            Bribir, Croatia  entrée/plat/dessert  "
      ]
     },
     "execution_count": 5,
     "metadata": {},
     "output_type": "execute_result"
    }
   ],
   "source": [
    "print(df.shape)\n",
    "df.head()"
   ]
  },
  {
   "cell_type": "markdown",
   "metadata": {},
   "source": [
    "## 2. Cleaning Dataset\n",
    "\n",
    "- **mettre la colonne inactive à true pour tous les users dont le last_seen date d'au moins un an**"
   ]
  },
  {
   "cell_type": "code",
   "execution_count": 6,
   "metadata": {},
   "outputs": [
    {
     "data": {
      "text/plain": [
       "False    207\n",
       "Name: inactive, dtype: int64"
      ]
     },
     "execution_count": 6,
     "metadata": {},
     "output_type": "execute_result"
    }
   ],
   "source": [
    "df['inactive'].value_counts()"
   ]
  },
  {
   "cell_type": "code",
   "execution_count": 7,
   "metadata": {},
   "outputs": [
    {
     "data": {
      "text/plain": [
       "False    138\n",
       "True      52\n",
       "NaN       19\n",
       "Name: inactive, dtype: int64"
      ]
     },
     "execution_count": 7,
     "metadata": {},
     "output_type": "execute_result"
    }
   ],
   "source": [
    "df['last_seen'] = pd.to_datetime(df['last_seen'], unit='s')\n",
    "\n",
    "def getInactivityFromLastSeen(timestamp):\n",
    "    nbDays = pd.Timedelta(pd.Timestamp.today() - timestamp).days\n",
    "    if pd.isnull(nbDays):\n",
    "        res = np.NaN\n",
    "    elif nbDays > 365:\n",
    "        res = True\n",
    "    else:\n",
    "        res = False\n",
    "    return res\n",
    "\n",
    "# print(getInactivityFromLastSeen(df['last_seen'][2]))\n",
    "# print(getInactivityFromLastSeen(df['last_seen'][10]))\n",
    "# print(getInactivityFromLastSeen(df['last_seen'][12]))\n",
    "\n",
    "df['inactive'] = df['last_seen'].apply(lambda x: getInactivityFromLastSeen(x))\n",
    "df['inactive'].value_counts(dropna=False)"
   ]
  },
  {
   "cell_type": "markdown",
   "metadata": {},
   "source": [
    "- **avec une regex: filtrer les numéros de téléphone invalides**"
   ]
  },
  {
   "cell_type": "code",
   "execution_count": 8,
   "metadata": {},
   "outputs": [
    {
     "data": {
      "text/plain": [
       "array(['0012673876', '0056565079', '0098166909', '01.75.20.82.23',\n",
       "       '0111330886', '0121722344', '0133026726', '0136319724',\n",
       "       '0144026028', '0146943857', '0157438239', '0159952607',\n",
       "       '0177869521', '0214068650', '0218963033', '0221155876',\n",
       "       '0222360265', '0228944761', '0243134786', '0262855559',\n",
       "       '0267878531', '0275529702', '0276520906', '0289190675',\n",
       "       '0298040087', '0298949280', '0317009357', '0321573819',\n",
       "       '0345081211', '0345561695', '0346857462', '0365047038',\n",
       "       '0368652867', '0378327099', '0385826731', '0392234826',\n",
       "       '0407262250', '0409272683', '0414375779', '0431555341',\n",
       "       '0455157590', '0466350315', '0486008155', '0495501591',\n",
       "       '0505884871', '0511039244', '0511530696', '0516973570',\n",
       "       '0517301167', '0545969512', '0547556034', '0574769298',\n",
       "       '0592104123', '0593299765', '06.17.44.23.22', '06.64.22.02.39',\n",
       "       '0606471647', '0644377486', '0665664983', '0696703245',\n",
       "       '06etcetera', '07.46.00.85.89', '0721208335', '0734595126',\n",
       "       '0735950711', '0744215909', '0746863267', '0771644155',\n",
       "       '0774378059', '0789', '0795796664', '0811321968', '0816110547',\n",
       "       '0817650798', '0842877691', '0847508396', '0875503094',\n",
       "       '0918048688', '0934317702', '0936125953', nan], dtype=object)"
      ]
     },
     "execution_count": 8,
     "metadata": {},
     "output_type": "execute_result"
    }
   ],
   "source": [
    "df.phone.sort_values().unique()"
   ]
  },
  {
   "cell_type": "code",
   "execution_count": 9,
   "metadata": {},
   "outputs": [],
   "source": [
    "df['phoneCleaned'] = df['phone'].str.replace('[^\\w\\s]', '')\n",
    "df['phoneCleaned'] = df['phoneCleaned'].str.extract(pat='(^[\\dA-Z]{3}[\\dA-Z]{3}[\\dA-Z]{4}$)')"
   ]
  },
  {
   "cell_type": "code",
   "execution_count": 10,
   "metadata": {},
   "outputs": [
    {
     "name": "stderr",
     "output_type": "stream",
     "text": [
      "c:\\anaconda\\lib\\site-packages\\ipykernel_launcher.py:1: UserWarning: Boolean Series key will be reindexed to match DataFrame index.\n",
      "  \"\"\"Entry point for launching an IPython kernel.\n"
     ]
    },
    {
     "data": {
      "text/html": [
       "<div>\n",
       "<style scoped>\n",
       "    .dataframe tbody tr th:only-of-type {\n",
       "        vertical-align: middle;\n",
       "    }\n",
       "\n",
       "    .dataframe tbody tr th {\n",
       "        vertical-align: top;\n",
       "    }\n",
       "\n",
       "    .dataframe thead th {\n",
       "        text-align: right;\n",
       "    }\n",
       "</style>\n",
       "<table border=\"1\" class=\"dataframe\">\n",
       "  <thead>\n",
       "    <tr style=\"text-align: right;\">\n",
       "      <th></th>\n",
       "      <th>phone</th>\n",
       "      <th>phoneCleaned</th>\n",
       "    </tr>\n",
       "  </thead>\n",
       "  <tbody>\n",
       "    <tr>\n",
       "      <th>21</th>\n",
       "      <td>06etcetera</td>\n",
       "      <td>NaN</td>\n",
       "    </tr>\n",
       "    <tr>\n",
       "      <th>37</th>\n",
       "      <td>0789</td>\n",
       "      <td>NaN</td>\n",
       "    </tr>\n",
       "  </tbody>\n",
       "</table>\n",
       "</div>"
      ],
      "text/plain": [
       "         phone phoneCleaned\n",
       "21  06etcetera          NaN\n",
       "37        0789          NaN"
      ]
     },
     "execution_count": 10,
     "metadata": {},
     "output_type": "execute_result"
    }
   ],
   "source": [
    "df[~df.phone.isnull()][df.phoneCleaned.isnull()][['phone', 'phoneCleaned']]"
   ]
  },
  {
   "cell_type": "code",
   "execution_count": 11,
   "metadata": {},
   "outputs": [
    {
     "data": {
      "text/plain": [
       "array(['0012673876', '0056565079', '0098166909', '0111330886',\n",
       "       '0121722344', '0133026726', '0136319724', '0144026028',\n",
       "       '0146943857', '0157438239', '0159952607', '0175208223',\n",
       "       '0177869521', '0214068650', '0218963033', '0221155876',\n",
       "       '0222360265', '0228944761', '0243134786', '0262855559',\n",
       "       '0267878531', '0275529702', '0276520906', '0289190675',\n",
       "       '0298040087', '0298949280', '0317009357', '0321573819',\n",
       "       '0345081211', '0345561695', '0346857462', '0365047038',\n",
       "       '0368652867', '0378327099', '0385826731', '0392234826',\n",
       "       '0407262250', '0409272683', '0414375779', '0431555341',\n",
       "       '0455157590', '0466350315', '0486008155', '0495501591',\n",
       "       '0505884871', '0511039244', '0511530696', '0516973570',\n",
       "       '0517301167', '0545969512', '0547556034', '0574769298',\n",
       "       '0592104123', '0593299765', '0606471647', '0617442322',\n",
       "       '0644377486', '0664220239', '0665664983', '0696703245',\n",
       "       '0721208335', '0734595126', '0735950711', '0744215909',\n",
       "       '0746008589', '0746863267', '0771644155', '0774378059',\n",
       "       '0795796664', '0811321968', '0816110547', '0817650798',\n",
       "       '0842877691', '0847508396', '0875503094', '0918048688',\n",
       "       '0934317702', '0936125953', nan], dtype=object)"
      ]
     },
     "execution_count": 11,
     "metadata": {},
     "output_type": "execute_result"
    }
   ],
   "source": [
    "df.phoneCleaned.sort_values().unique()"
   ]
  },
  {
   "cell_type": "markdown",
   "metadata": {},
   "source": [
    "- **ajouter une colonne indiquant si le numéro de tel correspond à un téléphone portable (06/07)**"
   ]
  },
  {
   "cell_type": "code",
   "execution_count": 12,
   "metadata": {},
   "outputs": [
    {
     "data": {
      "text/html": [
       "<div>\n",
       "<style scoped>\n",
       "    .dataframe tbody tr th:only-of-type {\n",
       "        vertical-align: middle;\n",
       "    }\n",
       "\n",
       "    .dataframe tbody tr th {\n",
       "        vertical-align: top;\n",
       "    }\n",
       "\n",
       "    .dataframe thead th {\n",
       "        text-align: right;\n",
       "    }\n",
       "</style>\n",
       "<table border=\"1\" class=\"dataframe\">\n",
       "  <thead>\n",
       "    <tr style=\"text-align: right;\">\n",
       "      <th></th>\n",
       "      <th>phoneCleaned</th>\n",
       "      <th>IsCellphone</th>\n",
       "    </tr>\n",
       "  </thead>\n",
       "  <tbody>\n",
       "    <tr>\n",
       "      <th>27</th>\n",
       "      <td>0746863267</td>\n",
       "      <td>True</td>\n",
       "    </tr>\n",
       "    <tr>\n",
       "      <th>45</th>\n",
       "      <td>0774378059</td>\n",
       "      <td>True</td>\n",
       "    </tr>\n",
       "    <tr>\n",
       "      <th>49</th>\n",
       "      <td>0721208335</td>\n",
       "      <td>True</td>\n",
       "    </tr>\n",
       "    <tr>\n",
       "      <th>68</th>\n",
       "      <td>0744215909</td>\n",
       "      <td>True</td>\n",
       "    </tr>\n",
       "    <tr>\n",
       "      <th>70</th>\n",
       "      <td>0644377486</td>\n",
       "      <td>True</td>\n",
       "    </tr>\n",
       "    <tr>\n",
       "      <th>81</th>\n",
       "      <td>0795796664</td>\n",
       "      <td>True</td>\n",
       "    </tr>\n",
       "    <tr>\n",
       "      <th>92</th>\n",
       "      <td>0665664983</td>\n",
       "      <td>True</td>\n",
       "    </tr>\n",
       "    <tr>\n",
       "      <th>154</th>\n",
       "      <td>0771644155</td>\n",
       "      <td>True</td>\n",
       "    </tr>\n",
       "    <tr>\n",
       "      <th>171</th>\n",
       "      <td>0735950711</td>\n",
       "      <td>True</td>\n",
       "    </tr>\n",
       "    <tr>\n",
       "      <th>172</th>\n",
       "      <td>0606471647</td>\n",
       "      <td>True</td>\n",
       "    </tr>\n",
       "    <tr>\n",
       "      <th>176</th>\n",
       "      <td>0746008589</td>\n",
       "      <td>True</td>\n",
       "    </tr>\n",
       "    <tr>\n",
       "      <th>178</th>\n",
       "      <td>0617442322</td>\n",
       "      <td>True</td>\n",
       "    </tr>\n",
       "    <tr>\n",
       "      <th>183</th>\n",
       "      <td>0664220239</td>\n",
       "      <td>True</td>\n",
       "    </tr>\n",
       "    <tr>\n",
       "      <th>196</th>\n",
       "      <td>0696703245</td>\n",
       "      <td>True</td>\n",
       "    </tr>\n",
       "    <tr>\n",
       "      <th>207</th>\n",
       "      <td>0734595126</td>\n",
       "      <td>True</td>\n",
       "    </tr>\n",
       "  </tbody>\n",
       "</table>\n",
       "</div>"
      ],
      "text/plain": [
       "    phoneCleaned  IsCellphone\n",
       "27    0746863267         True\n",
       "45    0774378059         True\n",
       "49    0721208335         True\n",
       "68    0744215909         True\n",
       "70    0644377486         True\n",
       "81    0795796664         True\n",
       "92    0665664983         True\n",
       "154   0771644155         True\n",
       "171   0735950711         True\n",
       "172   0606471647         True\n",
       "176   0746008589         True\n",
       "178   0617442322         True\n",
       "183   0664220239         True\n",
       "196   0696703245         True\n",
       "207   0734595126         True"
      ]
     },
     "execution_count": 12,
     "metadata": {},
     "output_type": "execute_result"
    }
   ],
   "source": [
    "def getIsCellPhone(x):\n",
    "    if pd.isnull(x):\n",
    "        res = False\n",
    "    elif (x[:2]=='06') | (x[:2]=='07'):\n",
    "        res = True\n",
    "    else:\n",
    "        res = False\n",
    "    return res\n",
    "\n",
    "df['IsCellphone'] = df['phoneCleaned'].apply(lambda x: getIsCellPhone(x))\n",
    "df[df.IsCellphone==True][['phoneCleaned', 'IsCellphone']]"
   ]
  },
  {
   "cell_type": "markdown",
   "metadata": {},
   "source": [
    "- **ajouter une colonne indiquant si les coordonnées GPS de l'utilisateur correspondent bien au \"country\"**"
   ]
  },
  {
   "cell_type": "code",
   "execution_count": 77,
   "metadata": {},
   "outputs": [],
   "source": [
    "def getCountryFromAddress(x):\n",
    "    if pd.isnull(x):\n",
    "        res = x\n",
    "    else:\n",
    "        res = x.split(',')[1].strip()\n",
    "    return res\n",
    "\n",
    "df['country'] = df['address'].apply(lambda x: getCountryFromAddress(x))"
   ]
  },
  {
   "cell_type": "code",
   "execution_count": 15,
   "metadata": {},
   "outputs": [
    {
     "data": {
      "text/html": [
       "<div>\n",
       "<style scoped>\n",
       "    .dataframe tbody tr th:only-of-type {\n",
       "        vertical-align: middle;\n",
       "    }\n",
       "\n",
       "    .dataframe tbody tr th {\n",
       "        vertical-align: top;\n",
       "    }\n",
       "\n",
       "    .dataframe thead th {\n",
       "        text-align: right;\n",
       "    }\n",
       "</style>\n",
       "<table border=\"1\" class=\"dataframe\">\n",
       "  <thead>\n",
       "    <tr style=\"text-align: right;\">\n",
       "      <th></th>\n",
       "      <th>lon</th>\n",
       "      <th>lat</th>\n",
       "      <th>country</th>\n",
       "    </tr>\n",
       "  </thead>\n",
       "  <tbody>\n",
       "    <tr>\n",
       "      <th>0</th>\n",
       "      <td>18.284100</td>\n",
       "      <td>49.632552</td>\n",
       "      <td>Czech Republic</td>\n",
       "    </tr>\n",
       "    <tr>\n",
       "      <th>1</th>\n",
       "      <td>19.230220</td>\n",
       "      <td>50.466575</td>\n",
       "      <td>Poland</td>\n",
       "    </tr>\n",
       "    <tr>\n",
       "      <th>2</th>\n",
       "      <td>118.831081</td>\n",
       "      <td>24.984813</td>\n",
       "      <td>China</td>\n",
       "    </tr>\n",
       "    <tr>\n",
       "      <th>3</th>\n",
       "      <td>121.648987</td>\n",
       "      <td>-8.844744</td>\n",
       "      <td>Indonesia</td>\n",
       "    </tr>\n",
       "    <tr>\n",
       "      <th>4</th>\n",
       "      <td>14.772557</td>\n",
       "      <td>45.160472</td>\n",
       "      <td>Croatia</td>\n",
       "    </tr>\n",
       "  </tbody>\n",
       "</table>\n",
       "</div>"
      ],
      "text/plain": [
       "          lon        lat          country\n",
       "0   18.284100  49.632552   Czech Republic\n",
       "1   19.230220  50.466575           Poland\n",
       "2  118.831081  24.984813            China\n",
       "3  121.648987  -8.844744        Indonesia\n",
       "4   14.772557  45.160472          Croatia"
      ]
     },
     "execution_count": 15,
     "metadata": {},
     "output_type": "execute_result"
    }
   ],
   "source": [
    "df[['lon', 'lat', 'country']].head()"
   ]
  },
  {
   "cell_type": "markdown",
   "metadata": {},
   "source": [
    "We are going to use the [reverse_geocoder](https://github.com/thampiman/reverse-geocoder) an offline Python package for reverse geocoding and get \n",
    "country code for each GPS coordinates:"
   ]
  },
  {
   "cell_type": "code",
   "execution_count": 34,
   "metadata": {},
   "outputs": [],
   "source": [
    "# Test Nominatim\n",
    "# testLon = df['lon'][0]\n",
    "# testLat = df['lat'][0]\n",
    "# testStrGeoLatLon = \"{}, {}\".format(testLat, testLon)\n",
    "# testStrCountry = df['country'][0]\n",
    "\n",
    "# geolocator = Nominatim(user_agent=\"msbd_exo_5\", timeout=60)\n",
    "\n",
    "# locationGeoLatLon = geolocator.reverse(testStrGeoLatLon, timeout=60, language='en')\n",
    "# locationCountry = geolocator.geocode(testStrCountry, timeout=60, language='en')\n",
    "\n",
    "# print(locationGeoLatLon.address)\n",
    "# print(locationCountry.address)"
   ]
  },
  {
   "cell_type": "code",
   "execution_count": 45,
   "metadata": {},
   "outputs": [
    {
     "name": "stdout",
     "output_type": "stream",
     "text": [
      "[OrderedDict([('lat', '49.63467'), ('lon', '18.31508'), ('name', 'Palkovice'), ('admin1', ''), ('admin2', ''), ('cc', 'CZ')])]\n",
      "CZ\n"
     ]
    }
   ],
   "source": [
    "# Test Reverse Geocoding\n",
    "testCoordinates = (df['lat'][0], df['lon'][0])\n",
    "testSearch = rg.search(testCoordinates, mode=2)\n",
    "print(testSearch)\n",
    "testCountryISO2 = testSearch[0]['cc']\n",
    "print(testCountryISO2)"
   ]
  },
  {
   "cell_type": "code",
   "execution_count": 46,
   "metadata": {},
   "outputs": [],
   "source": [
    "def getISO2FromCoordinates(arr):\n",
    "    if pd.isnull(arr[0]) & pd.isnull(arr[1]):\n",
    "        res = np.nan\n",
    "    else:\n",
    "        lat, lon = arr[0], arr[1]\n",
    "        rgSearch = rg.search((lat, lon), mode=2)\n",
    "        res = rgSearch[0]['cc']\n",
    "    return res"
   ]
  },
  {
   "cell_type": "code",
   "execution_count": 49,
   "metadata": {},
   "outputs": [],
   "source": [
    "# Very long !\n",
    "df['gpsCountryCode'] = df[['lat', 'lon']].apply(lambda arr: getISO2FromCoordinates(arr), axis=1)"
   ]
  },
  {
   "cell_type": "code",
   "execution_count": 58,
   "metadata": {},
   "outputs": [
    {
     "data": {
      "text/html": [
       "<div>\n",
       "<style scoped>\n",
       "    .dataframe tbody tr th:only-of-type {\n",
       "        vertical-align: middle;\n",
       "    }\n",
       "\n",
       "    .dataframe tbody tr th {\n",
       "        vertical-align: top;\n",
       "    }\n",
       "\n",
       "    .dataframe thead th {\n",
       "        text-align: right;\n",
       "    }\n",
       "</style>\n",
       "<table border=\"1\" class=\"dataframe\">\n",
       "  <thead>\n",
       "    <tr style=\"text-align: right;\">\n",
       "      <th></th>\n",
       "      <th>gpsCountryCode</th>\n",
       "      <th>country</th>\n",
       "    </tr>\n",
       "  </thead>\n",
       "  <tbody>\n",
       "    <tr>\n",
       "      <th>0</th>\n",
       "      <td>CZ</td>\n",
       "      <td>Czech Republic</td>\n",
       "    </tr>\n",
       "    <tr>\n",
       "      <th>1</th>\n",
       "      <td>PL</td>\n",
       "      <td>Poland</td>\n",
       "    </tr>\n",
       "    <tr>\n",
       "      <th>2</th>\n",
       "      <td>CN</td>\n",
       "      <td>China</td>\n",
       "    </tr>\n",
       "    <tr>\n",
       "      <th>3</th>\n",
       "      <td>ID</td>\n",
       "      <td>Indonesia</td>\n",
       "    </tr>\n",
       "    <tr>\n",
       "      <th>4</th>\n",
       "      <td>HR</td>\n",
       "      <td>Croatia</td>\n",
       "    </tr>\n",
       "    <tr>\n",
       "      <th>5</th>\n",
       "      <td>CZ</td>\n",
       "      <td>Czech Republic</td>\n",
       "    </tr>\n",
       "    <tr>\n",
       "      <th>6</th>\n",
       "      <td>BR</td>\n",
       "      <td>Brazil</td>\n",
       "    </tr>\n",
       "    <tr>\n",
       "      <th>7</th>\n",
       "      <td>GT</td>\n",
       "      <td>Guatemala</td>\n",
       "    </tr>\n",
       "    <tr>\n",
       "      <th>8</th>\n",
       "      <td>PE</td>\n",
       "      <td>Peru</td>\n",
       "    </tr>\n",
       "    <tr>\n",
       "      <th>9</th>\n",
       "      <td>GS</td>\n",
       "      <td>China</td>\n",
       "    </tr>\n",
       "  </tbody>\n",
       "</table>\n",
       "</div>"
      ],
      "text/plain": [
       "  gpsCountryCode          country\n",
       "0             CZ   Czech Republic\n",
       "1             PL           Poland\n",
       "2             CN            China\n",
       "3             ID        Indonesia\n",
       "4             HR          Croatia\n",
       "5             CZ   Czech Republic\n",
       "6             BR           Brazil\n",
       "7             GT        Guatemala\n",
       "8             PE             Peru\n",
       "9             GS            China"
      ]
     },
     "execution_count": 58,
     "metadata": {},
     "output_type": "execute_result"
    }
   ],
   "source": [
    "df[['gpsCountryCode', 'country']].head(10)"
   ]
  },
  {
   "cell_type": "markdown",
   "metadata": {},
   "source": [
    "Now we will have to convert country codes into countries with the offline [pycountry](https://pypi.org/project/pycountry/) package:"
   ]
  },
  {
   "cell_type": "code",
   "execution_count": 67,
   "metadata": {},
   "outputs": [
    {
     "name": "stdout",
     "output_type": "stream",
     "text": [
      "Czechia\n",
      "South Georgia and the South Sandwich Islands\n"
     ]
    }
   ],
   "source": [
    "testPycountry = pycountry.countries.get(alpha_2=\"CZ\")\n",
    "print(testPycountry.name)\n",
    "\n",
    "def getNameFromCountryCode(x):\n",
    "    if pd.isnull(x):\n",
    "        res = x\n",
    "    else:\n",
    "        if x=='XK':\n",
    "            res = 'Kosovo'\n",
    "        else:\n",
    "            res = pycountry.countries.get(alpha_2=x)\n",
    "            res = res.name\n",
    "    return res\n",
    "\n",
    "print(getNameFromCountryCode(\"GS\"))"
   ]
  },
  {
   "cell_type": "code",
   "execution_count": 69,
   "metadata": {},
   "outputs": [],
   "source": [
    "df['gpsCountry'] = df['gpsCountryCode'].apply(lambda x: getNameFromCountryCode(x))"
   ]
  },
  {
   "cell_type": "code",
   "execution_count": 78,
   "metadata": {},
   "outputs": [
    {
     "data": {
      "text/plain": [
       "('Poland', 'Poland')"
      ]
     },
     "execution_count": 78,
     "metadata": {},
     "output_type": "execute_result"
    }
   ],
   "source": [
    "df.gpsCountry[1], df.country[1]"
   ]
  },
  {
   "cell_type": "code",
   "execution_count": 79,
   "metadata": {},
   "outputs": [
    {
     "data": {
      "text/html": [
       "<div>\n",
       "<style scoped>\n",
       "    .dataframe tbody tr th:only-of-type {\n",
       "        vertical-align: middle;\n",
       "    }\n",
       "\n",
       "    .dataframe tbody tr th {\n",
       "        vertical-align: top;\n",
       "    }\n",
       "\n",
       "    .dataframe thead th {\n",
       "        text-align: right;\n",
       "    }\n",
       "</style>\n",
       "<table border=\"1\" class=\"dataframe\">\n",
       "  <thead>\n",
       "    <tr style=\"text-align: right;\">\n",
       "      <th></th>\n",
       "      <th>gpsCountry</th>\n",
       "      <th>country</th>\n",
       "    </tr>\n",
       "  </thead>\n",
       "  <tbody>\n",
       "    <tr>\n",
       "      <th>0</th>\n",
       "      <td>Czechia</td>\n",
       "      <td>Czech Republic</td>\n",
       "    </tr>\n",
       "    <tr>\n",
       "      <th>5</th>\n",
       "      <td>Czechia</td>\n",
       "      <td>Czech Republic</td>\n",
       "    </tr>\n",
       "    <tr>\n",
       "      <th>9</th>\n",
       "      <td>South Georgia and the South Sandwich Islands</td>\n",
       "      <td>China</td>\n",
       "    </tr>\n",
       "    <tr>\n",
       "      <th>10</th>\n",
       "      <td>Russian Federation</td>\n",
       "      <td>Russia</td>\n",
       "    </tr>\n",
       "    <tr>\n",
       "      <th>35</th>\n",
       "      <td>Venezuela, Bolivarian Republic of</td>\n",
       "      <td>Venezuela</td>\n",
       "    </tr>\n",
       "    <tr>\n",
       "      <th>37</th>\n",
       "      <td>Russian Federation</td>\n",
       "      <td>Russia</td>\n",
       "    </tr>\n",
       "    <tr>\n",
       "      <th>39</th>\n",
       "      <td>Czechia</td>\n",
       "      <td>Czech Republic</td>\n",
       "    </tr>\n",
       "    <tr>\n",
       "      <th>70</th>\n",
       "      <td>Russian Federation</td>\n",
       "      <td>Russia</td>\n",
       "    </tr>\n",
       "    <tr>\n",
       "      <th>79</th>\n",
       "      <td>Czechia</td>\n",
       "      <td>Czech Republic</td>\n",
       "    </tr>\n",
       "    <tr>\n",
       "      <th>82</th>\n",
       "      <td>Russian Federation</td>\n",
       "      <td>Russia</td>\n",
       "    </tr>\n",
       "    <tr>\n",
       "      <th>86</th>\n",
       "      <td>Czechia</td>\n",
       "      <td>Czech Republic</td>\n",
       "    </tr>\n",
       "    <tr>\n",
       "      <th>96</th>\n",
       "      <td>NaN</td>\n",
       "      <td>NaN</td>\n",
       "    </tr>\n",
       "    <tr>\n",
       "      <th>97</th>\n",
       "      <td>Czechia</td>\n",
       "      <td>Czech Republic</td>\n",
       "    </tr>\n",
       "    <tr>\n",
       "      <th>99</th>\n",
       "      <td>Korea, Republic of</td>\n",
       "      <td>South Korea</td>\n",
       "    </tr>\n",
       "    <tr>\n",
       "      <th>111</th>\n",
       "      <td>Russian Federation</td>\n",
       "      <td>Russia</td>\n",
       "    </tr>\n",
       "    <tr>\n",
       "      <th>122</th>\n",
       "      <td>Tanzania, United Republic of</td>\n",
       "      <td>Tanzania</td>\n",
       "    </tr>\n",
       "    <tr>\n",
       "      <th>129</th>\n",
       "      <td>Russian Federation</td>\n",
       "      <td>Russia</td>\n",
       "    </tr>\n",
       "    <tr>\n",
       "      <th>135</th>\n",
       "      <td>Palestine, State of</td>\n",
       "      <td>Palestinian Territory</td>\n",
       "    </tr>\n",
       "    <tr>\n",
       "      <th>136</th>\n",
       "      <td>India</td>\n",
       "      <td>China</td>\n",
       "    </tr>\n",
       "    <tr>\n",
       "      <th>146</th>\n",
       "      <td>Venezuela, Bolivarian Republic of</td>\n",
       "      <td>Venezuela</td>\n",
       "    </tr>\n",
       "    <tr>\n",
       "      <th>150</th>\n",
       "      <td>Russian Federation</td>\n",
       "      <td>Russia</td>\n",
       "    </tr>\n",
       "    <tr>\n",
       "      <th>152</th>\n",
       "      <td>Russian Federation</td>\n",
       "      <td>Russia</td>\n",
       "    </tr>\n",
       "    <tr>\n",
       "      <th>161</th>\n",
       "      <td>North Macedonia</td>\n",
       "      <td>Macedonia</td>\n",
       "    </tr>\n",
       "    <tr>\n",
       "      <th>163</th>\n",
       "      <td>Iran, Islamic Republic of</td>\n",
       "      <td>Iran</td>\n",
       "    </tr>\n",
       "    <tr>\n",
       "      <th>172</th>\n",
       "      <td>Moldova, Republic of</td>\n",
       "      <td>Moldova</td>\n",
       "    </tr>\n",
       "    <tr>\n",
       "      <th>185</th>\n",
       "      <td>China</td>\n",
       "      <td>France</td>\n",
       "    </tr>\n",
       "    <tr>\n",
       "      <th>186</th>\n",
       "      <td>China</td>\n",
       "      <td>France</td>\n",
       "    </tr>\n",
       "    <tr>\n",
       "      <th>194</th>\n",
       "      <td>Russian Federation</td>\n",
       "      <td>Russia</td>\n",
       "    </tr>\n",
       "    <tr>\n",
       "      <th>200</th>\n",
       "      <td>NaN</td>\n",
       "      <td>NaN</td>\n",
       "    </tr>\n",
       "    <tr>\n",
       "      <th>204</th>\n",
       "      <td>Russian Federation</td>\n",
       "      <td>Russia</td>\n",
       "    </tr>\n",
       "  </tbody>\n",
       "</table>\n",
       "</div>"
      ],
      "text/plain": [
       "                                       gpsCountry                country\n",
       "0                                         Czechia         Czech Republic\n",
       "5                                         Czechia         Czech Republic\n",
       "9    South Georgia and the South Sandwich Islands                  China\n",
       "10                             Russian Federation                 Russia\n",
       "35              Venezuela, Bolivarian Republic of              Venezuela\n",
       "37                             Russian Federation                 Russia\n",
       "39                                        Czechia         Czech Republic\n",
       "70                             Russian Federation                 Russia\n",
       "79                                        Czechia         Czech Republic\n",
       "82                             Russian Federation                 Russia\n",
       "86                                        Czechia         Czech Republic\n",
       "96                                            NaN                    NaN\n",
       "97                                        Czechia         Czech Republic\n",
       "99                             Korea, Republic of            South Korea\n",
       "111                            Russian Federation                 Russia\n",
       "122                  Tanzania, United Republic of               Tanzania\n",
       "129                            Russian Federation                 Russia\n",
       "135                           Palestine, State of  Palestinian Territory\n",
       "136                                         India                  China\n",
       "146             Venezuela, Bolivarian Republic of              Venezuela\n",
       "150                            Russian Federation                 Russia\n",
       "152                            Russian Federation                 Russia\n",
       "161                               North Macedonia              Macedonia\n",
       "163                     Iran, Islamic Republic of                   Iran\n",
       "172                          Moldova, Republic of                Moldova\n",
       "185                                         China                 France\n",
       "186                                         China                 France\n",
       "194                            Russian Federation                 Russia\n",
       "200                                           NaN                    NaN\n",
       "204                            Russian Federation                 Russia"
      ]
     },
     "execution_count": 79,
     "metadata": {},
     "output_type": "execute_result"
    }
   ],
   "source": [
    "df[df.gpsCountry!=df.country][['gpsCountry', 'country']]"
   ]
  },
  {
   "cell_type": "markdown",
   "metadata": {},
   "source": [
    "(To Be Continued)"
   ]
  }
 ],
 "metadata": {
  "kernelspec": {
   "display_name": "Python 3",
   "language": "python",
   "name": "python3"
  },
  "language_info": {
   "codemirror_mode": {
    "name": "ipython",
    "version": 3
   },
   "file_extension": ".py",
   "mimetype": "text/x-python",
   "name": "python",
   "nbconvert_exporter": "python",
   "pygments_lexer": "ipython3",
   "version": "3.6.4"
  }
 },
 "nbformat": 4,
 "nbformat_minor": 2
}
